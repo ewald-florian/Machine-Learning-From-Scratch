{
 "cells": [
  {
   "cell_type": "markdown",
   "id": "d58baa5b",
   "metadata": {},
   "source": [
    "# Principal Component Analysis"
   ]
  },
  {
   "cell_type": "code",
   "execution_count": 1,
   "id": "bc7c108f",
   "metadata": {},
   "outputs": [],
   "source": [
    "import numpy as np\n",
    "import matplotlib.pyplot as plt\n",
    "plt.style.use('seaborn')"
   ]
  },
  {
   "cell_type": "code",
   "execution_count": 2,
   "id": "ade892de",
   "metadata": {},
   "outputs": [],
   "source": [
    "data = np.loadtxt(\"data/fisher_iris_shuffled.txt\")"
   ]
  },
  {
   "cell_type": "code",
   "execution_count": 3,
   "id": "10f1da30",
   "metadata": {},
   "outputs": [
    {
     "data": {
      "text/plain": [
       "array([[6.8, 3.2, 5.9],\n",
       "       [5.5, 2.6, 4.4],\n",
       "       [5.7, 2.6, 3.5],\n",
       "       [6.1, 2.6, 5.6],\n",
       "       [6.5, 2.8, 4.6]])"
      ]
     },
     "execution_count": 3,
     "metadata": {},
     "output_type": "execute_result"
    }
   ],
   "source": [
    "data[:5]"
   ]
  },
  {
   "cell_type": "markdown",
   "id": "ec86b58d",
   "metadata": {},
   "source": [
    "### Implementation of PCA class"
   ]
  },
  {
   "cell_type": "code",
   "execution_count": 183,
   "id": "bcc94b20",
   "metadata": {},
   "outputs": [],
   "source": [
    "class PCA:\n",
    "    \"\"\"\n",
    "    Principal Component Analysis.\n",
    "    \"\"\"\n",
    "    \n",
    "    def __init__(self):\n",
    "        \n",
    "        self.number_of_components = 3\n",
    "        self.eigenvalues = []\n",
    "        self.components = []\n",
    "    \n",
    "    def center_standardize(self, X):\n",
    "        \"\"\"\n",
    "        Takes array as input and centers and \n",
    "        standardizes each column.\n",
    "        \"\"\"\n",
    "        X = (X-X.mean(axis=0))/X.std(axis=0)\n",
    "        \n",
    "        return X\n",
    "    \n",
    "    def covariance_matrix(self, X):\n",
    "        \"\"\"\n",
    "        Computes covariance matrix for an array\n",
    "        where columns represent the variables\n",
    "        with observations in the rows.\n",
    "        \"\"\"\n",
    "        N = X.shape[0]\n",
    "        a = X - (np.dot((np.ones(shape=(N, N))), X)/N)\n",
    "        cov_mat = np.dot(a.T, a)/N\n",
    "        \n",
    "        return cov_mat\n",
    "    \n",
    "    def compute_and_sort_components(self, cov_mat):\n",
    "        \n",
    "        eigenvalues, eigenvectors = np.linalg.eigh(covariance_matrix)\n",
    "        # change order of eigenvalues descending (descending)\n",
    "        eigenvalues = eigenvalues[::-1]\n",
    "        eigenvectors = eigenvectors[:,::-1]\n",
    "\n",
    "        return eigenvalues, eigenvectors\n",
    "    \n",
    "    def fit(self, X, number_of_components=3):\n",
    "        \"\"\"\n",
    "        Takes dataset X as input, centers and standardizes it and \n",
    "        computes the components (Eigenvectors) which can be used for \n",
    "        PCA. Components are sorted by Eigenvalues.\n",
    "        \"\"\"\n",
    "        self.number_of_components = number_of_components\n",
    "        X = self.center_standardize(X)\n",
    "        cov_mat = self.covariance_matrix(X)\n",
    "        # eigenvectors represent components\n",
    "        self.eigenvalues, eigenvectors = self.compute_and_sort_components(cov_mat)\n",
    "        self.components = eigenvectors[:,:number_of_components]\n",
    "        \n",
    "        # store instances of explained var\n",
    "        self.explained_variance()\n",
    "        \n",
    "    def transform(self, X):\n",
    "        \"\"\"\n",
    "        Takes dataset X as input, centers and standardizes it and returns \n",
    "        the PCA projections.\n",
    "        \"\"\"   \n",
    "        X = self.center_standardize(X)\n",
    "        X = X @ self.components\n",
    "        return X\n",
    "    \n",
    "    def explained_variance(self):\n",
    "        \"\"\"\n",
    "        Computes absolute and relative explained variacne of components.\n",
    "        \"\"\"\n",
    "        self.explained_var = self.eigenvalues\n",
    "        self.relative_explained_var = self.eigenvalues / np.sum(self.eigenvalues)"
   ]
  },
  {
   "cell_type": "markdown",
   "id": "1531d4ca",
   "metadata": {},
   "source": [
    "### Test of PCA Class"
   ]
  },
  {
   "cell_type": "code",
   "execution_count": 184,
   "id": "8a3bc57f",
   "metadata": {},
   "outputs": [],
   "source": [
    "# fit to data\n",
    "pca = PCA()"
   ]
  },
  {
   "cell_type": "code",
   "execution_count": 185,
   "id": "f8f6b5b2",
   "metadata": {},
   "outputs": [],
   "source": [
    "pca.fit(X=data, number_of_components=3)"
   ]
  },
  {
   "cell_type": "code",
   "execution_count": 187,
   "id": "32180b47",
   "metadata": {},
   "outputs": [
    {
     "data": {
      "text/plain": [
       "array([[-0.63137983,  0.42771052,  0.64685642],\n",
       "       [ 0.35424227,  0.90110216, -0.25005463],\n",
       "       [-0.6898347 ,  0.07126444, -0.72045087]])"
      ]
     },
     "execution_count": 187,
     "metadata": {},
     "output_type": "execute_result"
    }
   ],
   "source": [
    "# pca components (eigenvectors)\n",
    "pca.components"
   ]
  },
  {
   "cell_type": "code",
   "execution_count": 188,
   "id": "5ecdee54",
   "metadata": {},
   "outputs": [
    {
     "data": {
      "text/plain": [
       "array([2.01382631, 0.91483072, 0.07134297])"
      ]
     },
     "execution_count": 188,
     "metadata": {},
     "output_type": "execute_result"
    }
   ],
   "source": [
    "# explained variance (eigenvalues)\n",
    "pca.explained_var"
   ]
  },
  {
   "cell_type": "code",
   "execution_count": 189,
   "id": "6056b3a2",
   "metadata": {},
   "outputs": [
    {
     "data": {
      "text/plain": [
       "array([0.67127544, 0.30494357, 0.02378099])"
      ]
     },
     "execution_count": 189,
     "metadata": {},
     "output_type": "execute_result"
    }
   ],
   "source": [
    "# explained variance (eigenvalues)\n",
    "pca.relative_explained_var"
   ]
  },
  {
   "cell_type": "code",
   "execution_count": null,
   "id": "12470c68",
   "metadata": {},
   "outputs": [],
   "source": [
    "# Transform Data with fitted PCA model"
   ]
  },
  {
   "cell_type": "code",
   "execution_count": 192,
   "id": "a77d77b8",
   "metadata": {},
   "outputs": [
    {
     "data": {
      "text/plain": [
       "array([[-1.45219893e+00,  8.87003765e-01, -2.11943986e-01],\n",
       "       [-3.61077817e-01, -1.09861208e+00, -2.69146288e-01],\n",
       "       [-1.61032292e-01, -1.03143505e+00,  2.56330656e-01],\n",
       "       [-1.29083075e+00, -7.39033412e-01, -2.90504354e-01],\n",
       "       [-1.04061776e+00, -1.55223926e-01,  3.16971200e-01],\n",
       "       [-8.89564785e-01, -3.02593238e-01, -1.01335767e-04],\n",
       "       [ 1.64541359e+00, -4.84494727e-01,  1.59366950e-01],\n",
       "       [-1.48917854e-01, -2.08663958e-01, -4.63190549e-01],\n",
       "       [-1.21839523e+00,  6.89785803e-01,  3.33987072e-01],\n",
       "       [-4.50084210e-01, -1.74037522e+00,  6.83196439e-02]])"
      ]
     },
     "execution_count": 192,
     "metadata": {},
     "output_type": "execute_result"
    }
   ],
   "source": [
    "projection = pca.transform(X=data)\n",
    "projection[:10]"
   ]
  },
  {
   "cell_type": "code",
   "execution_count": 198,
   "id": "d280c4e6",
   "metadata": {},
   "outputs": [
    {
     "name": "stdout",
     "output_type": "stream",
     "text": [
      "Relative Projection Variances: [0.67127544 0.30494357 0.02378099]\n",
      "Relative Eigenvalues / Explaiend Variance: [0.67127544 0.30494357 0.02378099]\n"
     ]
    }
   ],
   "source": [
    "# Note: the relative variance of the projection columns corresponds relative eigenvalues (explained var)\n",
    "print(f'Relative Projection Variances: {np.var(projection,axis=0) / np.sum(np.var(projection,axis=0))}')\n",
    "print(f'Relative Eigenvalues / Explaiend Variance: {pca.relative_explained_var}')"
   ]
  },
  {
   "cell_type": "markdown",
   "id": "91cbb996",
   "metadata": {},
   "source": [
    "### Scatter Plot of Component Pairs"
   ]
  },
  {
   "cell_type": "code",
   "execution_count": 193,
   "id": "d8d0a835",
   "metadata": {},
   "outputs": [
    {
     "data": {
      "image/png": "[encoded data removed]",
      "text/plain": [
       "<Figure size 1080x360 with 3 Axes>"
      ]
     },
     "metadata": {},
     "output_type": "display_data"
    }
   ],
   "source": [
    "X = projection\n",
    "\n",
    "fig, ax = plt.subplots(nrows=1, ncols=3, figsize=(15,5))\n",
    "\n",
    "\n",
    "x1,y1 = X[:,0], X[:,1] # PC1 and PC2\n",
    "x2,y2 = X[:,0], X[:,2] # PC1 and PC3\n",
    "x3,y3 = X[:,1], X[:,2] # PC2 and PC3\n",
    "\n",
    "ax[0].scatter(x1,y1)\n",
    "ax[1].scatter(x2,y2)\n",
    "ax[2].scatter(x3,y3)\n",
    "\n",
    "ax[0].title.set_text('PC1 vs PC2')\n",
    "ax[1].title.set_text('PC1 vs PC3')\n",
    "ax[2].title.set_text('PC2 vs PC3')\n",
    "\n",
    "ax[0].set(xlabel='PC1',ylabel='PC2')\n",
    "ax[1].set(xlabel='PC1',ylabel='PC3')\n",
    "ax[2].set(xlabel='PC2',ylabel='PC3')\n",
    "\n",
    "fig.suptitle('Projections of PCA Combinations', fontsize=18)\n",
    "plt.show()"
   ]
  },
  {
   "cell_type": "markdown",
   "id": "f94a8c40",
   "metadata": {},
   "source": [
    "**Notes for Eigenvalues**<p>\n",
    "- In general, Eigenvalues indicate how much variance is in the data in a specific direction, the direction of the respective Eigenvector, large Eigenvalues indicate that the respective component (eigenvector) holds more variance. \n",
    "- Eigenvectors which hold the largest variance are the best components for PCA, therefore, the Eigenvalues can be used to create a ranking of the Components. \n",
    "- Small eigenvalues close to zero don't add much information, so their components might be discardable. \n",
    "- The component with the largest Eigenvalue is the principal component."
   ]
  }
 ],
 "metadata": {
  "interpreter": {
   "hash": "aee8b7b246df8f9039afb4144a1f6fd8d2ca17a180786b69acc140d282b71a49"
  },
  "kernelspec": {
   "display_name": "Python 3 (ipykernel)",
   "language": "python",
   "name": "python3"
  },
  "language_info": {
   "codemirror_mode": {
    "name": "ipython",
    "version": 3
   },
   "file_extension": ".py",
   "mimetype": "text/x-python",
   "name": "python",
   "nbconvert_exporter": "python",
   "pygments_lexer": "ipython3",
   "version": "3.9.7"
  }
 },
 "nbformat": 4,
 "nbformat_minor": 5
}
