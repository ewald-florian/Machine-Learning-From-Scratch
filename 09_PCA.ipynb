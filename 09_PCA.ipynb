{
 "cells": [
  {
   "cell_type": "markdown",
   "id": "d58baa5b",
   "metadata": {},
   "source": [
    "# Principal Component Analysis"
   ]
  },
  {
   "cell_type": "code",
   "execution_count": 41,
   "id": "bc7c108f",
   "metadata": {},
   "outputs": [],
   "source": [
    "import numpy as np\n",
    "import matplotlib.pyplot as plt\n",
    "plt.style.use('seaborn')"
   ]
  },
  {
   "cell_type": "code",
   "execution_count": 42,
   "id": "ade892de",
   "metadata": {},
   "outputs": [],
   "source": [
    "data = np.loadtxt(\"data/fisher_iris_shuffled.txt\")"
   ]
  },
  {
   "cell_type": "code",
   "execution_count": 43,
   "id": "10f1da30",
   "metadata": {},
   "outputs": [
    {
     "data": {
      "text/plain": [
       "array([[6.8, 3.2, 5.9],\n",
       "       [5.5, 2.6, 4.4],\n",
       "       [5.7, 2.6, 3.5],\n",
       "       [6.1, 2.6, 5.6],\n",
       "       [6.5, 2.8, 4.6]])"
      ]
     },
     "execution_count": 43,
     "metadata": {},
     "output_type": "execute_result"
    }
   ],
   "source": [
    "data[:5]"
   ]
  },
  {
   "cell_type": "markdown",
   "id": "368bb2ae",
   "metadata": {},
   "source": [
    "### center and standardize data:"
   ]
  },
  {
   "cell_type": "code",
   "execution_count": 44,
   "id": "a08fb7f0",
   "metadata": {},
   "outputs": [],
   "source": [
    "def center_standardize(data):\n",
    "    \"\"\"\n",
    "    Takes array as input and centers and \n",
    "    standardizes each column.\n",
    "    \"\"\"\n",
    "    data = (data-data.mean(axis=0))/data.std(axis=0)\n",
    "    return data"
   ]
  },
  {
   "cell_type": "code",
   "execution_count": 45,
   "id": "062c5208",
   "metadata": {},
   "outputs": [],
   "source": [
    "standard_data = center_standardize(data)"
   ]
  },
  {
   "cell_type": "code",
   "execution_count": 46,
   "id": "5f002e34",
   "metadata": {},
   "outputs": [
    {
     "data": {
      "text/plain": [
       "array([[ 1.15917263,  0.33784833,  1.21768427],\n",
       "       [-0.41600969, -1.05056946,  0.36469871],\n",
       "       [-0.17367395, -1.05056946, -0.14709262],\n",
       "       [ 0.31099753, -1.05056946,  1.04708716],\n",
       "       [ 0.79566902, -0.58776353,  0.47843012],\n",
       "       [ 0.4321654 , -0.58776353,  0.59216153],\n",
       "       [-1.14301691,  0.10644536, -1.2844067 ],\n",
       "       [-0.29484182, -0.1249576 ,  0.42156442],\n",
       "       [ 1.2803405 ,  0.10644536,  0.64902723],\n",
       "       [-0.41600969, -1.74477836,  0.1372359 ]])"
      ]
     },
     "execution_count": 46,
     "metadata": {},
     "output_type": "execute_result"
    }
   ],
   "source": [
    "standard_data[:10]"
   ]
  },
  {
   "cell_type": "markdown",
   "id": "afb2ad06",
   "metadata": {},
   "source": [
    "### Covariance matrix across features"
   ]
  },
  {
   "cell_type": "code",
   "execution_count": 47,
   "id": "ee1c172c",
   "metadata": {},
   "outputs": [],
   "source": [
    "def covariance_matrix(data):\n",
    "    \"\"\"\n",
    "    Computes covariance matrix for an array\n",
    "    where columns represent the variables\n",
    "    with observations in the rows.\n",
    "    \"\"\"\n",
    "    A = data\n",
    "    N = A.shape[0]\n",
    "    a = A - (np.dot((np.ones(shape=(N, N))), A)/N)\n",
    "    cov_mat = np.dot(a.T, a)/N\n",
    "    \n",
    "    return cov_mat"
   ]
  },
  {
   "cell_type": "code",
   "execution_count": 48,
   "id": "9e383205",
   "metadata": {},
   "outputs": [
    {
     "data": {
      "text/plain": [
       "array([[ 1.        , -0.10936925,  0.87175416],\n",
       "       [-0.10936925,  1.        , -0.4205161 ],\n",
       "       [ 0.87175416, -0.4205161 ,  1.        ]])"
      ]
     },
     "execution_count": 48,
     "metadata": {},
     "output_type": "execute_result"
    }
   ],
   "source": [
    "covariance_matrix = covariance_matrix(standard_data)\n",
    "covariance_matrix"
   ]
  },
  {
   "cell_type": "markdown",
   "id": "0834167c",
   "metadata": {},
   "source": [
    "### Principal Components as the eigenvectors of the covariance matrix"
   ]
  },
  {
   "cell_type": "code",
   "execution_count": 49,
   "id": "fc459e1c",
   "metadata": {},
   "outputs": [],
   "source": [
    "eigenvalues, eigenvectors = np.linalg.eig(covariance_matrix)"
   ]
  },
  {
   "cell_type": "code",
   "execution_count": 50,
   "id": "6c554b7a",
   "metadata": {},
   "outputs": [
    {
     "data": {
      "text/plain": [
       "array([[-0.63137983,  0.64685642,  0.42771052],\n",
       "       [ 0.35424227, -0.25005463,  0.90110216],\n",
       "       [-0.6898347 , -0.72045087,  0.07126444]])"
      ]
     },
     "execution_count": 50,
     "metadata": {},
     "output_type": "execute_result"
    }
   ],
   "source": [
    "eigenvectors"
   ]
  },
  {
   "cell_type": "code",
   "execution_count": 51,
   "id": "d70f0b32",
   "metadata": {},
   "outputs": [
    {
     "data": {
      "text/plain": [
       "array([2.01382631, 0.07134297, 0.91483072])"
      ]
     },
     "execution_count": 51,
     "metadata": {},
     "output_type": "execute_result"
    }
   ],
   "source": [
    "eigenvalues"
   ]
  },
  {
   "cell_type": "markdown",
   "id": "d11c2174",
   "metadata": {},
   "source": [
    "**Notes for Eigenvalues**<p>\n",
    "- In general, Eigenvalues indicate how much variance is in the data in a specific direction, the direction of the respective Eigenvector, large Eigenvalues indicate that the respective component (eigenvector) holds more variance. \n",
    "- Eigenvectors which hold the largest variance are the best components for PCA, therefore, the Eigenvalues can be used to create a ranking of the Components. \n",
    "- Small eigenvalues close to zero don't add much information, so their components might be discardable. \n",
    "- The component with the largest Eigenvalue is the principal component."
   ]
  },
  {
   "cell_type": "markdown",
   "id": "ec0bad5d",
   "metadata": {},
   "source": [
    "### Rank components"
   ]
  },
  {
   "cell_type": "code",
   "execution_count": 52,
   "id": "cc962568",
   "metadata": {},
   "outputs": [],
   "source": [
    "# sort the eigenvectors by eigenvalues (descending)\n",
    "eigenvectors = eigenvectors[eigenvalues.argsort()[::-1]]"
   ]
  },
  {
   "cell_type": "code",
   "execution_count": 53,
   "id": "c457b574",
   "metadata": {},
   "outputs": [
    {
     "data": {
      "text/plain": [
       "array([[-0.63137983,  0.64685642,  0.42771052],\n",
       "       [-0.6898347 , -0.72045087,  0.07126444],\n",
       "       [ 0.35424227, -0.25005463,  0.90110216]])"
      ]
     },
     "execution_count": 53,
     "metadata": {},
     "output_type": "execute_result"
    }
   ],
   "source": [
    "eigenvectors"
   ]
  },
  {
   "cell_type": "code",
   "execution_count": 54,
   "id": "1c72a664",
   "metadata": {},
   "outputs": [],
   "source": [
    "# also sort the eigenvalues to keep a consistent order\n",
    "eigenvalues = eigenvalues[eigenvalues.argsort()[::-1]]"
   ]
  },
  {
   "cell_type": "code",
   "execution_count": 55,
   "id": "15f34253",
   "metadata": {},
   "outputs": [
    {
     "data": {
      "text/plain": [
       "array([2.01382631, 0.91483072, 0.07134297])"
      ]
     },
     "execution_count": 55,
     "metadata": {},
     "output_type": "execute_result"
    }
   ],
   "source": [
    "eigenvalues"
   ]
  },
  {
   "cell_type": "code",
   "execution_count": 56,
   "id": "042f8a49",
   "metadata": {},
   "outputs": [
    {
     "data": {
      "text/plain": [
       "array([0.67127544, 0.30494357, 0.02378099])"
      ]
     },
     "execution_count": 56,
     "metadata": {},
     "output_type": "execute_result"
    }
   ],
   "source": [
    "normalized_eigenvalues = eigenvalues / eigenvalues.sum()\n",
    "normalized_eigenvalues"
   ]
  },
  {
   "cell_type": "markdown",
   "id": "63ca4502",
   "metadata": {},
   "source": [
    "### Projection"
   ]
  },
  {
   "cell_type": "markdown",
   "id": "6d8ff56d",
   "metadata": {},
   "source": [
    "A projection matrix consists of two eigenvectors (two components)"
   ]
  },
  {
   "cell_type": "code",
   "execution_count": 57,
   "id": "3e0dbd4c",
   "metadata": {},
   "outputs": [],
   "source": [
    "projection_matrix1 = eigenvectors[[0,1],:] # PC1 and PC2\n",
    "projection_matrix2 = eigenvectors[[0,2],:] # PC1 and PC3\n",
    "projection_matrix3 = eigenvectors[[1,2],:] # PC2 and PC3"
   ]
  },
  {
   "cell_type": "code",
   "execution_count": 58,
   "id": "55ab0f40",
   "metadata": {},
   "outputs": [],
   "source": [
    "# Projection:\n",
    "# matrix multiplication of data with transposed projection matrix\n",
    "x_projection1 = np.dot(standard_data, projection_matrix1.T)\n",
    "x_projection2 = np.dot(standard_data, projection_matrix2.T)\n",
    "x_projection3 = np.dot(standard_data, projection_matrix3.T)"
   ]
  },
  {
   "cell_type": "code",
   "execution_count": 59,
   "id": "ef05f478",
   "metadata": {},
   "outputs": [
    {
     "data": {
      "image/png": "[encoded data removed]",
      "text/plain": [
       "<Figure size 1080x360 with 3 Axes>"
      ]
     },
     "metadata": {},
     "output_type": "display_data"
    }
   ],
   "source": [
    "# Plot\n",
    "fig, ax = plt.subplots(nrows=1, ncols=3, figsize=(15,5))\n",
    "\n",
    "# select the respective columns of the projected data for the PCs\n",
    "x1,y1 = x_projection1[:,0], x_projection1[:,1] # PC1 and PC2\n",
    "x2,y2 = x_projection2[:,0], x_projection2[:,1] # PC1 and PC3\n",
    "x3,y3 = x_projection3[:,0], x_projection3[:,1] # PC2 and PC3\n",
    "\n",
    "ax[0].scatter(x1,y1)\n",
    "ax[1].scatter(x2,y2)\n",
    "ax[2].scatter(x3,y3)\n",
    "\n",
    "ax[0].title.set_text('PC1 vs PC2')\n",
    "ax[1].title.set_text('PC1 vs PC3')\n",
    "ax[2].title.set_text('PC2 vs PC3')\n",
    "\n",
    "ax[0].set(xlabel='PC1',ylabel='PC2')\n",
    "ax[1].set(xlabel='PC1',ylabel='PC3')\n",
    "ax[2].set(xlabel='PC2',ylabel='PC3')\n",
    "\n",
    "fig.suptitle('Projections of PCA Combinations', fontsize=18)\n",
    "plt.show()"
   ]
  },
  {
   "cell_type": "markdown",
   "id": "15894d48",
   "metadata": {},
   "source": [
    "- Through the projection, the data was reduced from three dimensions to two dimensions -> dimensionality reductuion.\n",
    "- The scatter plots show a linear combination of the original dataset features and the respective principal components used."
   ]
  },
  {
   "cell_type": "code",
   "execution_count": null,
   "id": "b59d4623",
   "metadata": {},
   "outputs": [],
   "source": []
  }
 ],
 "metadata": {
  "interpreter": {
   "hash": "aee8b7b246df8f9039afb4144a1f6fd8d2ca17a180786b69acc140d282b71a49"
  },
  "kernelspec": {
   "display_name": "Python 3 (ipykernel)",
   "language": "python",
   "name": "python3"
  },
  "language_info": {
   "codemirror_mode": {
    "name": "ipython",
    "version": 3
   },
   "file_extension": ".py",
   "mimetype": "text/x-python",
   "name": "python",
   "nbconvert_exporter": "python",
   "pygments_lexer": "ipython3",
   "version": "3.9.7"
  }
 },
 "nbformat": 4,
 "nbformat_minor": 5
}
