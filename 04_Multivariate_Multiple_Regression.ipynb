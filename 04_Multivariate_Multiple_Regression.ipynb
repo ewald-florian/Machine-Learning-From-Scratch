{
 "cells": [
  {
   "cell_type": "markdown",
   "id": "c58211a6",
   "metadata": {},
   "source": [
    "# 04_Multivariate_Multiple_Regression"
   ]
  },
  {
   "cell_type": "code",
   "execution_count": 72,
   "id": "e663d731",
   "metadata": {},
   "outputs": [],
   "source": [
    "import numpy as np\n",
    "from sklearn import datasets\n",
    "import matplotlib.pyplot as plt"
   ]
  },
  {
   "cell_type": "code",
   "execution_count": 73,
   "id": "0d846946",
   "metadata": {},
   "outputs": [],
   "source": [
    "iris = datasets.load_iris()\n",
    "data = iris.data"
   ]
  },
  {
   "cell_type": "markdown",
   "id": "430c9bc5",
   "metadata": {},
   "source": [
    "## Multivariate Multiple Linear Regression"
   ]
  },
  {
   "cell_type": "code",
   "execution_count": 74,
   "id": "341ebc86",
   "metadata": {},
   "outputs": [],
   "source": [
    "class MultivariateOLS:\n",
    "    \"\"\"\n",
    "    Multivariate Multiple Regression, takes several X features\n",
    "    to predict several Y targets.\n",
    "    \"\"\"\n",
    "    \n",
    "    def __init__(self):\n",
    "        self.weights = np.array([])\n",
    "\n",
    "    def fit(self, X, Y):\n",
    "        \"\"\"\n",
    "        Takes a matrix X of input vectors and a matrix Y of target \n",
    "        vectors, fits the model parameters to the given data using \n",
    "        least squares with closed form solution via matrix\n",
    "        multiplication.\n",
    "        \"\"\"\n",
    "        \n",
    "        # extend the dimension of each vector with 1\n",
    "        ones_col = np.ones(shape=(1,X.shape[0]))\n",
    "        X = np.insert(X, 0, ones_col, axis=1)\n",
    "        # Takes the inverse of the transpose of X multiplied with X \n",
    "        # and multiplies this term with the transpose of X and with Y \n",
    "        # yields weights matrix\n",
    "        weights = np.linalg.inv(X.T.dot(X)).dot(X.T).dot(Y)\n",
    "        self.weights = weights\n",
    "        \n",
    "        return weights\n",
    "         \n",
    "    def predict(self, X):\n",
    "        \"\"\"\n",
    "        takes inputs X and uses the learnt parameters to predict \n",
    "        the corresponding targets Y_pred.\n",
    "        \"\"\"\n",
    "        \n",
    "        ones_col = np.ones(shape=(1,X.shape[0]))\n",
    "        X = np.insert(X, 0, ones_col, axis=1)\n",
    "        Y_pred = X.dot(self.weights)\n",
    "        \n",
    "        return Y_pred"
   ]
  },
  {
   "cell_type": "markdown",
   "id": "2a109605",
   "metadata": {},
   "source": [
    "### Showcase"
   ]
  },
  {
   "cell_type": "code",
   "execution_count": 75,
   "id": "f84368ab",
   "metadata": {},
   "outputs": [],
   "source": [
    "# train test split\n",
    "shuffled_data = data.copy()\n",
    "np.random.shuffle(shuffled_data)\n",
    "train, test = shuffled_data[:100], shuffled_data[100:]"
   ]
  },
  {
   "cell_type": "code",
   "execution_count": 76,
   "id": "03a4e21c",
   "metadata": {},
   "outputs": [],
   "source": [
    "# sepal length and sepal width are the independent variables (X) -> columns 0,1\n",
    "X_train, X_test = train[:, :2], test[:, :2]\n",
    "# petal length and petal width are the dependent variables (Y) -> columns 2,3\n",
    "Y_train, Y_test = train[:,2:], test[:,2:]"
   ]
  },
  {
   "cell_type": "code",
   "execution_count": 77,
   "id": "3bbb71e1",
   "metadata": {},
   "outputs": [],
   "source": [
    "# instantiate class\n",
    "ols = MultivariateOLS()"
   ]
  },
  {
   "cell_type": "code",
   "execution_count": 78,
   "id": "b9cf4137",
   "metadata": {},
   "outputs": [
    {
     "data": {
      "text/plain": [
       "array([[-2.24499838, -1.47729132],\n",
       "       [ 1.75717868,  0.71280047],\n",
       "       [-1.39333611, -0.48946417]])"
      ]
     },
     "execution_count": 78,
     "metadata": {},
     "output_type": "execute_result"
    }
   ],
   "source": [
    "# apply fit method to training set\n",
    "ols.fit(X_train, Y_train)"
   ]
  },
  {
   "cell_type": "code",
   "execution_count": 79,
   "id": "a0318159",
   "metadata": {},
   "outputs": [],
   "source": [
    "# predict y of test set\n",
    "Y_test_pred = ols.predict(X_test)"
   ]
  },
  {
   "cell_type": "code",
   "execution_count": 80,
   "id": "340d2647",
   "metadata": {},
   "outputs": [
    {
     "data": {
      "text/plain": [
       "array([[4.96027044, 1.66518558],\n",
       "       [1.44591309, 0.23958464],\n",
       "       [1.37934799, 0.23530549],\n",
       "       [5.34188702, 1.7896912 ],\n",
       "       [3.2332726 , 0.93433064]])"
      ]
     },
     "execution_count": 80,
     "metadata": {},
     "output_type": "execute_result"
    }
   ],
   "source": [
    "Y_test_pred[:5]"
   ]
  },
  {
   "cell_type": "markdown",
   "id": "6f3a9c94",
   "metadata": {},
   "source": [
    "### Plot Results"
   ]
  },
  {
   "cell_type": "code",
   "execution_count": 81,
   "id": "a33ab372",
   "metadata": {},
   "outputs": [
    {
     "data": {
      "image/png": "[encoded data removed]",
      "text/plain": [
       "<Figure size 576x396 with 1 Axes>"
      ]
     },
     "metadata": {},
     "output_type": "display_data"
    }
   ],
   "source": [
    "plt.style.use('seaborn')\n",
    "# plot actual values\n",
    "x = Y_test[:,0]\n",
    "y = Y_test[:,1]\n",
    "plt.scatter(x,y, \n",
    "            c='blue', \n",
    "            label='actual values', \n",
    "            marker='x', \n",
    "            s=50)\n",
    "# plot predicted values\n",
    "x1 = Y_test_pred[:,0]\n",
    "y1 = Y_test_pred[:,1]\n",
    "plt.scatter(x1,y1, \n",
    "            c='r', \n",
    "            label='predicted values', \n",
    "            marker='*', \n",
    "            s=50)\n",
    "\n",
    "plt.xlabel('petal length')\n",
    "plt.ylabel('petal width')\n",
    "plt.title('Linear Regression', fontsize=18)\n",
    "plt.legend(fontsize=14)\n",
    "plt.show()"
   ]
  },
  {
   "cell_type": "markdown",
   "id": "a6308971",
   "metadata": {},
   "source": [
    "### Comparison with Sklearn LinearRegression"
   ]
  },
  {
   "cell_type": "code",
   "execution_count": 82,
   "id": "15a9ed29",
   "metadata": {},
   "outputs": [],
   "source": [
    "from sklearn import linear_model\n",
    "reg = linear_model.LinearRegression()\n",
    "reg.fit(X_train, Y_train)\n",
    "Y_pred_skl = reg.predict(X_test)"
   ]
  },
  {
   "cell_type": "code",
   "execution_count": 83,
   "id": "6e114c8d",
   "metadata": {},
   "outputs": [
    {
     "data": {
      "text/plain": [
       "array([[ 1.75717868, -1.39333611],\n",
       "       [ 0.71280047, -0.48946417]])"
      ]
     },
     "execution_count": 83,
     "metadata": {},
     "output_type": "execute_result"
    }
   ],
   "source": [
    "# sklearn weights\n",
    "reg.coef_"
   ]
  },
  {
   "cell_type": "code",
   "execution_count": 84,
   "id": "c4022147",
   "metadata": {},
   "outputs": [
    {
     "data": {
      "text/plain": [
       "array([[ 1.75717868, -1.39333611],\n",
       "       [ 0.71280047, -0.48946417]])"
      ]
     },
     "execution_count": 84,
     "metadata": {},
     "output_type": "execute_result"
    }
   ],
   "source": [
    "# MultivariateOLS\n",
    "ols.weights[1:].T"
   ]
  },
  {
   "cell_type": "code",
   "execution_count": 85,
   "id": "2bab59e1",
   "metadata": {},
   "outputs": [
    {
     "data": {
      "image/png": "[encoded data removed]",
      "text/plain": [
       "<Figure size 576x396 with 1 Axes>"
      ]
     },
     "metadata": {},
     "output_type": "display_data"
    }
   ],
   "source": [
    "plt.style.use('seaborn')\n",
    "# plot actual values\n",
    "x = Y_test[:,0]\n",
    "y = Y_test[:,1]\n",
    "plt.scatter(x,y, c='blue', label='actual values', marker='x', s=50)\n",
    "# plot predicted values\n",
    "x1 = Y_pred_skl[:,0]\n",
    "y1 = Y_pred_skl[:,1]\n",
    "plt.scatter(x1,y1, c='r', label='predicted values', marker='*', s=50)\n",
    "\n",
    "plt.xlabel('petal length')\n",
    "plt.ylabel('petal width')\n",
    "plt.title('Linear Regression', fontsize=18)\n",
    "plt.legend(fontsize=14)\n",
    "plt.show()"
   ]
  }
 ],
 "metadata": {
  "kernelspec": {
   "display_name": "Python 3 (ipykernel)",
   "language": "python",
   "name": "python3"
  },
  "language_info": {
   "codemirror_mode": {
    "name": "ipython",
    "version": 3
   },
   "file_extension": ".py",
   "mimetype": "text/x-python",
   "name": "python",
   "nbconvert_exporter": "python",
   "pygments_lexer": "ipython3",
   "version": "3.9.7"
  }
 },
 "nbformat": 4,
 "nbformat_minor": 5
}
