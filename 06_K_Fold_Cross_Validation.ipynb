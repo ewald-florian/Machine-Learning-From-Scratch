{
 "cells": [
  {
   "cell_type": "markdown",
   "id": "f45fa544",
   "metadata": {},
   "source": [
    "# k-Fold Cross-Validation"
   ]
  },
  {
   "cell_type": "code",
   "execution_count": 1,
   "id": "63a01e9f",
   "metadata": {},
   "outputs": [],
   "source": [
    "import numpy as np\n",
    "import pandas as pd\n",
    "from sklearn import datasets\n",
    "from sklearn.svm import SVC\n",
    "import matplotlib.pyplot as plt"
   ]
  },
  {
   "cell_type": "code",
   "execution_count": 2,
   "id": "e7f3656c",
   "metadata": {},
   "outputs": [],
   "source": [
    "iris = datasets.load_iris()\n",
    "data = iris.data"
   ]
  },
  {
   "cell_type": "markdown",
   "id": "a9ed9ee0",
   "metadata": {},
   "source": [
    "- Apply k-Fold Cross Validation to identify the optimal parameters for C and gamma for a support vector machine classifier"
   ]
  },
  {
   "cell_type": "code",
   "execution_count": 3,
   "id": "b5640bb2",
   "metadata": {},
   "outputs": [],
   "source": [
    "def train_test_split(X, y, shuffle=True, test_size=0.3):\n",
    "    \"\"\"\n",
    "    Split data into training and testing set.\n",
    "    \"\"\"\n",
    "    n_train = int(X.shape[0]*(1-test_size))\n",
    "    indices = np.arange(len(X))\n",
    "    if shuffle: \n",
    "        np.random.shuffle(indices)\n",
    "    train = indices[:n_train]\n",
    "    test = indices[n_train:]\n",
    "    X_train, X_test = X[train], X[test]\n",
    "    y_train, y_test = y[train], y[test]\n",
    "    \n",
    "    return X_train, X_test, y_train, y_test"
   ]
  },
  {
   "cell_type": "code",
   "execution_count": 4,
   "id": "1c4ece4e",
   "metadata": {},
   "outputs": [],
   "source": [
    "# train test split\n",
    "X, y = iris.data, iris.target\n",
    "# use custom train test split function\n",
    "X_train,X_test,y_train,y_test=train_test_split(X=X, y=y, shuffle=True, test_size=0.3)"
   ]
  },
  {
   "cell_type": "code",
   "execution_count": 5,
   "id": "efef1ce3",
   "metadata": {},
   "outputs": [],
   "source": [
    "# function to compute accuracy\n",
    "def get_accuracy(y_pred, y_test):\n",
    "    \"\"\"\n",
    "    Takes y_test and y_pred as input and\n",
    "    returns accuracy.\n",
    "    \"\"\"\n",
    "    n_accurate = (y_pred == y_test).sum()\n",
    "    n_total = len(y_test)\n",
    "    accuracy = n_accurate / n_total\n",
    "    return accuracy"
   ]
  },
  {
   "cell_type": "code",
   "execution_count": 6,
   "id": "2dcfc052",
   "metadata": {},
   "outputs": [],
   "source": [
    "# function to prepare k-fold indices\n",
    "def prepare_k_fold(X,n_splits=5, shuffle=True):\n",
    "    \"\"\"\n",
    "    Takes dataset as input and returns k chunks\n",
    "    of indices which can be used for k-fold\n",
    "    cross validation.\n",
    "    \"\"\"\n",
    "    # generate index with length of X_train\n",
    "    indices = np.arange(len(X))\n",
    "    if shuffle:\n",
    "        np.random.shuffle(indices)\n",
    "    # split index into k chunks\n",
    "    k_chunks = np.array_split(indices, n_splits)\n",
    "    \n",
    "    return k_chunks"
   ]
  },
  {
   "cell_type": "code",
   "execution_count": 7,
   "id": "a74e7cf0",
   "metadata": {},
   "outputs": [],
   "source": [
    "# lists of possible C and gamam values\n",
    "C_list = [0.001,0.01,0.1,1,10]\n",
    "gamma_list = [0.01, 0.1, 1, 10]\n",
    "# define k\n",
    "k_fold = 5\n",
    "# initiate list to store average accuracy\n",
    "accuracy_list = []\n",
    "np.random.seed(42)"
   ]
  },
  {
   "cell_type": "code",
   "execution_count": 8,
   "id": "ef11d1ca",
   "metadata": {},
   "outputs": [],
   "source": [
    "# iterate over C_list\n",
    "for C in C_list:\n",
    "    # iterate over gamma_list\n",
    "    for gamma in gamma_list:\n",
    "\n",
    "        # instantiate classifier with respective C and gamma\n",
    "        classifier = SVC(kernel='rbf', C=C, gamma=gamma, random_state=42)\n",
    "        # initiate 5 fold cross validation; splits data into sub train test\n",
    "        k_chunks = prepare_k_fold(X=X_train, n_splits=k_fold, shuffle=True)\n",
    "        \n",
    "        # run k-fold cross validation\n",
    "        scores = [] # empty list to store the k accuracies in order to compute the mean\n",
    "        # iterate over chunks\n",
    "        for chunk in k_chunks:\n",
    "            # all train indices\n",
    "            indices = np.arange(len(X_train))\n",
    "            # take values from chunk as sub test index\n",
    "            sub_test_index = chunk\n",
    "            # take values which are not in chunk as sub train index\n",
    "            sub_train_index = np.array([i for i in indices if i not in chunk])\n",
    "            # fit model on train subset\n",
    "            classifier.fit(X_train[sub_train_index], y_train[sub_train_index])\n",
    "            # predict on test subset (chunk)\n",
    "            sub_y_pred = classifier.predict(X_train[sub_test_index])\n",
    "            # true values (chunk)\n",
    "            sub_y_test = y_train[sub_test_index]\n",
    "            # call get_accuracy function\n",
    "            accuracy_score = get_accuracy(y_pred=sub_y_pred, y_test=sub_y_test)\n",
    "            #append to list of accuracies of respective chunk\n",
    "            scores.append(accuracy_score)\n",
    "            \n",
    "        # take mean of scores of respective chunk\n",
    "        accuracy = np.mean(scores)\n",
    "        #store result to accuracy_list\n",
    "        result = np.array([C,gamma,accuracy])\n",
    "        accuracy_list.append(result)"
   ]
  },
  {
   "cell_type": "code",
   "execution_count": 9,
   "id": "1f68ba56",
   "metadata": {},
   "outputs": [
    {
     "data": {
      "text/html": [
       "<div>\n",
       "<style scoped>\n",
       "    .dataframe tbody tr th:only-of-type {\n",
       "        vertical-align: middle;\n",
       "    }\n",
       "\n",
       "    .dataframe tbody tr th {\n",
       "        vertical-align: top;\n",
       "    }\n",
       "\n",
       "    .dataframe thead th {\n",
       "        text-align: right;\n",
       "    }\n",
       "</style>\n",
       "<table border=\"1\" class=\"dataframe\">\n",
       "  <thead>\n",
       "    <tr style=\"text-align: right;\">\n",
       "      <th></th>\n",
       "      <th>C</th>\n",
       "      <th>gamma</th>\n",
       "      <th>accuracy</th>\n",
       "    </tr>\n",
       "  </thead>\n",
       "  <tbody>\n",
       "    <tr>\n",
       "      <th>0</th>\n",
       "      <td>0.001</td>\n",
       "      <td>0.01</td>\n",
       "      <td>0.295238</td>\n",
       "    </tr>\n",
       "    <tr>\n",
       "      <th>1</th>\n",
       "      <td>0.001</td>\n",
       "      <td>0.10</td>\n",
       "      <td>0.314286</td>\n",
       "    </tr>\n",
       "    <tr>\n",
       "      <th>2</th>\n",
       "      <td>0.001</td>\n",
       "      <td>1.00</td>\n",
       "      <td>0.238095</td>\n",
       "    </tr>\n",
       "    <tr>\n",
       "      <th>3</th>\n",
       "      <td>0.001</td>\n",
       "      <td>10.00</td>\n",
       "      <td>0.438095</td>\n",
       "    </tr>\n",
       "    <tr>\n",
       "      <th>4</th>\n",
       "      <td>0.010</td>\n",
       "      <td>0.01</td>\n",
       "      <td>0.228571</td>\n",
       "    </tr>\n",
       "    <tr>\n",
       "      <th>5</th>\n",
       "      <td>0.010</td>\n",
       "      <td>0.10</td>\n",
       "      <td>0.333333</td>\n",
       "    </tr>\n",
       "    <tr>\n",
       "      <th>6</th>\n",
       "      <td>0.010</td>\n",
       "      <td>1.00</td>\n",
       "      <td>0.276190</td>\n",
       "    </tr>\n",
       "    <tr>\n",
       "      <th>7</th>\n",
       "      <td>0.010</td>\n",
       "      <td>10.00</td>\n",
       "      <td>0.228571</td>\n",
       "    </tr>\n",
       "    <tr>\n",
       "      <th>8</th>\n",
       "      <td>0.100</td>\n",
       "      <td>0.01</td>\n",
       "      <td>0.590476</td>\n",
       "    </tr>\n",
       "    <tr>\n",
       "      <th>9</th>\n",
       "      <td>0.100</td>\n",
       "      <td>0.10</td>\n",
       "      <td>0.895238</td>\n",
       "    </tr>\n",
       "    <tr>\n",
       "      <th>10</th>\n",
       "      <td>0.100</td>\n",
       "      <td>1.00</td>\n",
       "      <td>0.971429</td>\n",
       "    </tr>\n",
       "    <tr>\n",
       "      <th>11</th>\n",
       "      <td>0.100</td>\n",
       "      <td>10.00</td>\n",
       "      <td>0.342857</td>\n",
       "    </tr>\n",
       "    <tr>\n",
       "      <th>12</th>\n",
       "      <td>1.000</td>\n",
       "      <td>0.01</td>\n",
       "      <td>0.904762</td>\n",
       "    </tr>\n",
       "    <tr>\n",
       "      <th>13</th>\n",
       "      <td>1.000</td>\n",
       "      <td>0.10</td>\n",
       "      <td>0.971429</td>\n",
       "    </tr>\n",
       "    <tr>\n",
       "      <th>14</th>\n",
       "      <td>1.000</td>\n",
       "      <td>1.00</td>\n",
       "      <td>0.942857</td>\n",
       "    </tr>\n",
       "    <tr>\n",
       "      <th>15</th>\n",
       "      <td>1.000</td>\n",
       "      <td>10.00</td>\n",
       "      <td>0.876190</td>\n",
       "    </tr>\n",
       "    <tr>\n",
       "      <th>16</th>\n",
       "      <td>10.000</td>\n",
       "      <td>0.01</td>\n",
       "      <td>0.971429</td>\n",
       "    </tr>\n",
       "    <tr>\n",
       "      <th>17</th>\n",
       "      <td>10.000</td>\n",
       "      <td>0.10</td>\n",
       "      <td>0.971429</td>\n",
       "    </tr>\n",
       "    <tr>\n",
       "      <th>18</th>\n",
       "      <td>10.000</td>\n",
       "      <td>1.00</td>\n",
       "      <td>0.914286</td>\n",
       "    </tr>\n",
       "    <tr>\n",
       "      <th>19</th>\n",
       "      <td>10.000</td>\n",
       "      <td>10.00</td>\n",
       "      <td>0.885714</td>\n",
       "    </tr>\n",
       "  </tbody>\n",
       "</table>\n",
       "</div>"
      ],
      "text/plain": [
       "         C  gamma  accuracy\n",
       "0    0.001   0.01  0.295238\n",
       "1    0.001   0.10  0.314286\n",
       "2    0.001   1.00  0.238095\n",
       "3    0.001  10.00  0.438095\n",
       "4    0.010   0.01  0.228571\n",
       "5    0.010   0.10  0.333333\n",
       "6    0.010   1.00  0.276190\n",
       "7    0.010  10.00  0.228571\n",
       "8    0.100   0.01  0.590476\n",
       "9    0.100   0.10  0.895238\n",
       "10   0.100   1.00  0.971429\n",
       "11   0.100  10.00  0.342857\n",
       "12   1.000   0.01  0.904762\n",
       "13   1.000   0.10  0.971429\n",
       "14   1.000   1.00  0.942857\n",
       "15   1.000  10.00  0.876190\n",
       "16  10.000   0.01  0.971429\n",
       "17  10.000   0.10  0.971429\n",
       "18  10.000   1.00  0.914286\n",
       "19  10.000  10.00  0.885714"
      ]
     },
     "execution_count": 9,
     "metadata": {},
     "output_type": "execute_result"
    }
   ],
   "source": [
    "# create df with accuracy results\n",
    "cross_val_results = pd.DataFrame(accuracy_list, columns=['C', 'gamma', 'accuracy'])\n",
    "cross_val_results"
   ]
  },
  {
   "cell_type": "code",
   "execution_count": 10,
   "id": "2578ee2d",
   "metadata": {},
   "outputs": [
    {
     "data": {
      "text/plain": [
       "C           0.100000\n",
       "gamma       1.000000\n",
       "accuracy    0.971429\n",
       "Name: 10, dtype: float64"
      ]
     },
     "execution_count": 10,
     "metadata": {},
     "output_type": "execute_result"
    }
   ],
   "source": [
    "# values which scored the highest accuracy\n",
    "best_values = cross_val_results.loc[cross_val_results.accuracy.argmax()]\n",
    "best_values"
   ]
  },
  {
   "cell_type": "code",
   "execution_count": 11,
   "id": "4d4bc563",
   "metadata": {},
   "outputs": [],
   "source": [
    "# instantiate model using best values\n",
    "classifier = SVC(kernel='rbf', \n",
    "                 C=best_values.C, # best C\n",
    "                 gamma=best_values.gamma, # best gamma\n",
    "                 random_state=42)\n",
    "\n",
    "# fit on entire train data\n",
    "classifier.fit(X_train, y_train)\n",
    "# predict test data\n",
    "y_pred = classifier.predict(X_test)"
   ]
  },
  {
   "cell_type": "code",
   "execution_count": 12,
   "id": "f8dbafa4",
   "metadata": {},
   "outputs": [
    {
     "name": "stdout",
     "output_type": "stream",
     "text": [
      "Accuracy of optimized SVC model 93.33%\n"
     ]
    }
   ],
   "source": [
    "# apply get_accuracy function\n",
    "acc = get_accuracy(y_pred, y_test)\n",
    "print(\"Accuracy of optimized SVC model {:.2%}\".format(acc))"
   ]
  }
 ],
 "metadata": {
  "kernelspec": {
   "display_name": "Python [conda env:tensorflow] *",
   "language": "python",
   "name": "conda-env-tensorflow-py"
  },
  "language_info": {
   "codemirror_mode": {
    "name": "ipython",
    "version": 3
   },
   "file_extension": ".py",
   "mimetype": "text/x-python",
   "name": "python",
   "nbconvert_exporter": "python",
   "pygments_lexer": "ipython3",
   "version": "3.9.7"
  }
 },
 "nbformat": 4,
 "nbformat_minor": 5
}
