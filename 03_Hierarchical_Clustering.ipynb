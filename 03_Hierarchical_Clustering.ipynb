{
 "cells": [
  {
   "cell_type": "markdown",
   "id": "fde7ff48",
   "metadata": {},
   "source": [
    "# 03 Hierarchical Clustering (Agglomorative Clustering) and Dendrogram"
   ]
  },
  {
   "cell_type": "code",
   "execution_count": 1,
   "id": "a1a3b54a",
   "metadata": {},
   "outputs": [],
   "source": [
    "import numpy as np\n",
    "import pandas as pd\n",
    "from sklearn import datasets\n",
    "import matplotlib.pyplot as plt"
   ]
  },
  {
   "cell_type": "code",
   "execution_count": 2,
   "id": "09390da4",
   "metadata": {},
   "outputs": [],
   "source": [
    "iris = datasets.load_iris()\n",
    "data = iris.data"
   ]
  },
  {
   "cell_type": "markdown",
   "id": "fc27a02e",
   "metadata": {},
   "source": [
    "### Implement HierarchicalClustering Class"
   ]
  },
  {
   "cell_type": "code",
   "execution_count": 20,
   "id": "e7b16108",
   "metadata": {},
   "outputs": [],
   "source": [
    "class HierarchicalClustering:\n",
    "    '''\n",
    "    Takes a dataset as input and uses the Agglomerative Clustering algorithm \n",
    "    based on Euclidean cluster centroid distance to cluster the data and \n",
    "    returns the linkage matrix.\n",
    "\n",
    "    Note: resulting linkage matrix can slighlty vary from the linkage\n",
    "    matrix of the respective scipy.linkage function if data includes\n",
    "    points with identical coordinates (distance = 0) since sequence in \n",
    "    which these points are clustered can differ. This deviation could\n",
    "    always occur if several clusters have the identical smallest distance\n",
    "    since for every step, only one cluster gets merged.\n",
    "    '''\n",
    "    def __init__(self):\n",
    "        pass\n",
    "    \n",
    "    def special_distance_matrix(self, data, clustered_points):\n",
    "        '''\n",
    "        Fucntion to compute distance matrix for an array.\n",
    "        Assigns irrelevant pairs (diagonal or already clustered) an \n",
    "        infinitive distance such that the minimal distance in the distance \n",
    "        matrix can be used to identify the relevant pair with the smallest \n",
    "        distance -> next cluster. \n",
    "        '''\n",
    "\n",
    "        z = data.copy()\n",
    "        # compute distance matrix for each point in data with complex array (newaxis)\n",
    "        # This way, mutual distances can be computed vextorized\n",
    "        distance_matrix = np.linalg.norm(z[:, np.newaxis, :] - z[np.newaxis, :, :], axis = -1)\n",
    "\n",
    "        # Assign inf to diagonal to ignore points distance to themselves\n",
    "        np.fill_diagonal(distance_matrix, float('inf'))\n",
    "\n",
    "        # assign inf to distances which were already clustered before\n",
    "        distance_matrix[[clustered_points],:] = float('inf')\n",
    "        distance_matrix[:,[clustered_points]] = float('inf')\n",
    "\n",
    "        return distance_matrix\n",
    "\n",
    "    def count_links(self, linkage_matrix, idx, data_len):\n",
    "        '''\n",
    "        Function counts the original points of clusters.\n",
    "        Used to create the linkage matrix.\n",
    "        '''\n",
    "        n = 1\n",
    "        m = 1\n",
    "\n",
    "        # if idx[i] >= data_len, the number of points is stored in linkage_matrix\n",
    "        if idx[0] >= data_len:\n",
    "\n",
    "            # if linkage matrix is one dimensional\n",
    "            if linkage_matrix.ndim == 1:\n",
    "\n",
    "                n = linkage_matrix[3]\n",
    "\n",
    "            else:\n",
    "                # if linkage matrix is 2D\n",
    "                n = linkage_matrix[idx[0]-data_len,3]\n",
    "\n",
    "        if idx[1] >=  data_len:\n",
    "\n",
    "            if linkage_matrix.ndim == 1:\n",
    "\n",
    "                m = linkage_matrix[3]\n",
    "            else:    \n",
    "                m = linkage_matrix[idx[1]-data_len,3]\n",
    "\n",
    "        # note: if idx < data_len, n,m=1\n",
    "        return n, m\n",
    "    \n",
    "    def agglomerative_clustering(self, data):\n",
    "        '''\n",
    "        Generate Linkage Matrix\n",
    "        '''\n",
    "\n",
    "        data_len = len(data)\n",
    "        # initiate empty array to store linkage matrix\n",
    "        linkage_matrix = np.array([])\n",
    "        # initiate empty list to store indices of clustered points\n",
    "        clustered_points = []\n",
    "\n",
    "        # Iterate over clusters\n",
    "        for i in range(0, len(data)-1):\n",
    "\n",
    "            # use own distance function to obtain distance matrix\n",
    "            distance_matrix = self.special_distance_matrix(data, clustered_points)\n",
    "\n",
    "            # indices of the two closest points (min distance in distance_matrix)\n",
    "            idx = np.unravel_index(distance_matrix.argmin(), distance_matrix.shape)\n",
    "\n",
    "            # append to a list with index of points which were already clustered\n",
    "            clustered_points.append(idx[0])\n",
    "            clustered_points.append(idx[1])\n",
    "\n",
    "            # take original number of points from linkage_matrix (n+m) with count_links\n",
    "            n,m = self.count_links(linkage_matrix, idx, data_len)\n",
    "            if len(linkage_matrix) == 0:\n",
    "\n",
    "                # create linkage matrix\n",
    "                linkage_matrix = np.array([idx[0], idx[1], distance_matrix[idx], n+m])\n",
    "\n",
    "            else:\n",
    "                # append linkage matrix with new row\n",
    "                linkage_matrix = np.vstack([linkage_matrix, np.array([idx[0], idx[1], distance_matrix[idx], n+m])])\n",
    "\n",
    "            # compute new centroid using weighted mean\n",
    "            new_centroid = 1/(n+m)*(n*data[[idx],:][0][0] + m*data[[idx],:][0][1])\n",
    "\n",
    "            # append new centroid to data\n",
    "            data = np.vstack([data, new_centroid])\n",
    "\n",
    "        return linkage_matrix\n",
    "        "
   ]
  },
  {
   "cell_type": "markdown",
   "id": "301cb6c3",
   "metadata": {},
   "source": [
    "### Test Hierarchical Clustering"
   ]
  },
  {
   "cell_type": "code",
   "execution_count": 21,
   "id": "a5c547ed",
   "metadata": {},
   "outputs": [],
   "source": [
    "# generate a subset\n",
    "idx = np.random.randint(len(data), size=40)\n",
    "subset = data[idx].copy()"
   ]
  },
  {
   "cell_type": "code",
   "execution_count": 22,
   "id": "e5e9b8d6",
   "metadata": {},
   "outputs": [],
   "source": [
    "hc = HierarchicalClustering()"
   ]
  },
  {
   "cell_type": "code",
   "execution_count": 24,
   "id": "fbd5db7b",
   "metadata": {},
   "outputs": [
    {
     "data": {
      "text/plain": [
       "array([[ 5.        , 20.        ,  0.        ,  2.        ],\n",
       "       [ 7.        , 15.        ,  0.        ,  2.        ],\n",
       "       [17.        , 41.        ,  0.        ,  3.        ],\n",
       "       [32.        , 38.        ,  0.        ,  2.        ],\n",
       "       [35.        , 37.        ,  0.        ,  2.        ],\n",
       "       [14.        , 28.        ,  0.14142136,  2.        ],\n",
       "       [10.        , 44.        ,  0.14142136,  3.        ],\n",
       "       [ 2.        , 45.        ,  0.21213203,  3.        ],\n",
       "       [11.        , 30.        ,  0.2236068 ,  2.        ],\n",
       "       [24.        , 47.        ,  0.25166115,  4.        ],\n",
       "       [ 8.        , 33.        ,  0.26457513,  2.        ],\n",
       "       [31.        , 49.        ,  0.26575365,  5.        ],\n",
       "       [ 9.        , 21.        ,  0.28284271,  2.        ],\n",
       "       [48.        , 51.        ,  0.31256999,  7.        ],\n",
       "       [ 0.        , 23.        ,  0.36055513,  2.        ],\n",
       "       [36.        , 53.        ,  0.3912304 ,  8.        ],\n",
       "       [13.        , 27.        ,  0.42426407,  2.        ],\n",
       "       [46.        , 50.        ,  0.43557114,  5.        ],\n",
       "       [56.        , 57.        ,  0.44474712,  7.        ],\n",
       "       [ 3.        , 18.        ,  0.45825757,  2.        ],\n",
       "       [40.        , 59.        ,  0.46097722,  4.        ],\n",
       "       [ 6.        , 54.        ,  0.47169906,  3.        ],\n",
       "       [16.        , 52.        ,  0.50990195,  3.        ],\n",
       "       [39.        , 62.        ,  0.49888765,  4.        ],\n",
       "       [34.        , 43.        ,  0.50990195,  3.        ],\n",
       "       [19.        , 55.        ,  0.52171592,  9.        ],\n",
       "       [12.        , 26.        ,  0.58309519,  2.        ],\n",
       "       [22.        , 65.        ,  0.64855014, 10.        ],\n",
       "       [42.        , 64.        ,  0.67494856,  6.        ],\n",
       "       [ 4.        , 66.        ,  0.73824115,  3.        ],\n",
       "       [63.        , 67.        ,  0.7580897 , 14.        ],\n",
       "       [58.        , 69.        ,  0.82925533, 10.        ],\n",
       "       [61.        , 71.        ,  0.78120989, 13.        ],\n",
       "       [60.        , 68.        ,  0.88478654, 10.        ],\n",
       "       [ 1.        , 72.        ,  0.9596597 , 14.        ],\n",
       "       [29.        , 70.        ,  1.3159733 , 15.        ],\n",
       "       [73.        , 74.        ,  1.41943004, 24.        ],\n",
       "       [25.        , 76.        ,  2.29475171, 25.        ],\n",
       "       [75.        , 77.        ,  4.29856927, 40.        ]])"
      ]
     },
     "execution_count": 24,
     "metadata": {},
     "output_type": "execute_result"
    }
   ],
   "source": [
    "# apply function\n",
    "linkage_matrix = hc.agglomerative_clustering(data=subset)\n",
    "linkage_matrix"
   ]
  },
  {
   "cell_type": "markdown",
   "id": "c51dde56",
   "metadata": {},
   "source": [
    "### Dendrogram"
   ]
  },
  {
   "cell_type": "code",
   "execution_count": 25,
   "id": "fa1a6bd0",
   "metadata": {},
   "outputs": [],
   "source": [
    "from scipy.cluster.hierarchy import dendrogram"
   ]
  },
  {
   "cell_type": "code",
   "execution_count": 26,
   "id": "b002411c",
   "metadata": {},
   "outputs": [
    {
     "data": {
      "image/png": "[encoded data removed]",
      "text/plain": [
       "<Figure size 576x396 with 1 Axes>"
      ]
     },
     "metadata": {},
     "output_type": "display_data"
    }
   ],
   "source": [
    "# plot the linkage matrix with scipy dendrogram\n",
    "plt.style.use('seaborn')\n",
    "dendrogram(linkage_matrix)\n",
    "plt.title(\"Hierarchical Clustering Dendrogram\", fontsize = 15)\n",
    "plt.xlabel(\"Index of Points\")\n",
    "plt.ylabel(\"Distance\")\n",
    "plt.show()"
   ]
  }
 ],
 "metadata": {
  "kernelspec": {
   "display_name": "Python [conda env:tensorflow] *",
   "language": "python",
   "name": "conda-env-tensorflow-py"
  },
  "language_info": {
   "codemirror_mode": {
    "name": "ipython",
    "version": 3
   },
   "file_extension": ".py",
   "mimetype": "text/x-python",
   "name": "python",
   "nbconvert_exporter": "python",
   "pygments_lexer": "ipython3",
   "version": "3.9.7"
  }
 },
 "nbformat": 4,
 "nbformat_minor": 5
}
