{
 "cells": [
  {
   "cell_type": "markdown",
   "id": "11abd93c",
   "metadata": {},
   "source": [
    "# 05 Softmargin Classifier"
   ]
  },
  {
   "cell_type": "code",
   "execution_count": 1,
   "id": "37a59b48",
   "metadata": {},
   "outputs": [],
   "source": [
    "import numpy as np\n",
    "import pandas as pd\n",
    "from sklearn import datasets"
   ]
  },
  {
   "cell_type": "code",
   "execution_count": 2,
   "id": "2ff0d18f",
   "metadata": {},
   "outputs": [],
   "source": [
    "iris = datasets.load_iris()\n",
    "data = iris.data"
   ]
  },
  {
   "cell_type": "markdown",
   "id": "1cef2fec",
   "metadata": {},
   "source": [
    "### Implement Softmargin"
   ]
  },
  {
   "cell_type": "code",
   "execution_count": 3,
   "id": "3fe7ad90",
   "metadata": {},
   "outputs": [],
   "source": [
    "def softmargin(data,labels,supportvec):\n",
    "    \"\"\"\n",
    "    Computes the softmargin scorebased on\n",
    "    the data and the given support vectors\n",
    "    \"\"\"\n",
    "    # compute the threshold as the mean of the two support vectors\n",
    "    threshold = np.mean(supportvec)\n",
    "    # classiy the data where is is lower and larger the threshold (True/1)\n",
    "    y_pred = data > threshold\n",
    "    # boolean can be compared to 0,1-array:\n",
    "    result = y_pred == labels\n",
    "    # incorrectly classified\n",
    "    n_missclassification = (result == False).sum()\n",
    "    # correctly classified\n",
    "    n_correctclassification = result.sum()\n",
    "    score = n_correctclassification - n_missclassification\n",
    "    # compute accuracy:\n",
    "    n_datapoints = len(data)\n",
    "    accuracy = n_correctclassification / n_datapoints\n",
    "    \n",
    "    return score, accuracy"
   ]
  },
  {
   "cell_type": "code",
   "execution_count": 4,
   "id": "012df1e4",
   "metadata": {},
   "outputs": [
    {
     "data": {
      "text/plain": [
       "(-6, 0.48)"
      ]
     },
     "execution_count": 4,
     "metadata": {},
     "output_type": "execute_result"
    }
   ],
   "source": [
    "# test the function\n",
    "softmargin(data=iris.data[:,-1], labels=iris.target,\n",
    "           supportvec=np.random.choice(iris.data[:,-1], 2, replace=False))"
   ]
  },
  {
   "cell_type": "code",
   "execution_count": 5,
   "id": "981ba26a",
   "metadata": {},
   "outputs": [],
   "source": [
    "# prepare data"
   ]
  },
  {
   "cell_type": "code",
   "execution_count": 6,
   "id": "88924fe4",
   "metadata": {},
   "outputs": [],
   "source": [
    "def train_test_split(X, y, shuffle=True, test_size=0.3):\n",
    "    \"\"\"\n",
    "    Split data into training and testing set.\n",
    "    \"\"\"\n",
    "    n_train = int(X.shape[0]*(1-test_size))\n",
    "    indices = np.arange(len(X))\n",
    "    if shuffle: \n",
    "        np.random.shuffle(indices)\n",
    "    train = indices[:n_train]\n",
    "    test = indices[n_train:]\n",
    "    X_train, X_test = X[train], X[test]\n",
    "    y_train, y_test = y[train], y[test]\n",
    "    \n",
    "    return X_train, X_test, y_train, y_test"
   ]
  },
  {
   "cell_type": "markdown",
   "id": "d310f681",
   "metadata": {},
   "source": [
    "### Test Softmargin"
   ]
  },
  {
   "cell_type": "code",
   "execution_count": 7,
   "id": "cc40b7fa",
   "metadata": {},
   "outputs": [],
   "source": [
    "X = iris.data[:,-1] # use petal width only\n",
    "y = iris.target\n",
    "\n",
    "X_train, X_test, y_train, y_test = train_test_split(X=X, y=y,shuffle=True, test_size=0.3)"
   ]
  },
  {
   "cell_type": "code",
   "execution_count": 8,
   "id": "7fb5f98a",
   "metadata": {},
   "outputs": [],
   "source": [
    "# for binary classification: combine 'versicolor' and 'virginica' to one class (1)\n",
    "y_train = np.where(y_train==2, 1, y_train)\n",
    "y_test = np.where(y_test==2, 1, y_test)"
   ]
  },
  {
   "cell_type": "code",
   "execution_count": 9,
   "id": "c8f64c87",
   "metadata": {},
   "outputs": [],
   "source": [
    "# Run the softmargin function 20 times with random support vectors"
   ]
  },
  {
   "cell_type": "code",
   "execution_count": 10,
   "id": "a45cd74e",
   "metadata": {},
   "outputs": [],
   "source": [
    "support_vectors = np.random.choice(X_train, 40, replace=False)\n",
    "np.random.shuffle(support_vectors)\n",
    "result_list = []\n",
    "# iterate over range with odd numbers 1-39\n",
    "for i in range(1, 40, 2):\n",
    "    supportvec = np.array(support_vectors[[i-1,i]])\n",
    "    # apply softmargin to get softmargin score\n",
    "    score = softmargin(data=X_train, labels=y_train, supportvec=supportvec)[0]\n",
    "    result = [supportvec, score]\n",
    "    result_list.append(result)"
   ]
  },
  {
   "cell_type": "code",
   "execution_count": 11,
   "id": "3fc19d5f",
   "metadata": {},
   "outputs": [
    {
     "data": {
      "text/plain": [
       "array([[array([1.6, 0.2]), 105],\n",
       "       [array([1.8, 1.2]), 35],\n",
       "       [array([1.3, 1.5]), 51],\n",
       "       [array([2.5, 1.9]), -15],\n",
       "       [array([1.3, 0.2]), 105],\n",
       "       [array([2. , 0.2]), 95],\n",
       "       [array([0.1, 1.1]), 105],\n",
       "       [array([0.2, 1.5]), 105],\n",
       "       [array([0.3, 0.3]), 97],\n",
       "       [array([1.2, 1.5]), 65],\n",
       "       [array([0.1, 1.9]), 101],\n",
       "       [array([1.3, 2. ]), 29],\n",
       "       [array([0.2, 1.8]), 101],\n",
       "       [array([1.8, 1. ]), 51],\n",
       "       [array([2.3, 2.1]), -15],\n",
       "       [array([0.2, 1.4]), 105],\n",
       "       [array([0.3, 2.2]), 85],\n",
       "       [array([1.1, 0.2]), 105],\n",
       "       [array([1.2, 1.5]), 65],\n",
       "       [array([1.6, 1.3]), 51]], dtype=object)"
      ]
     },
     "execution_count": 11,
     "metadata": {},
     "output_type": "execute_result"
    }
   ],
   "source": [
    "# present results\n",
    "result_array = np.array(result_list, dtype='object')\n",
    "result_array"
   ]
  },
  {
   "cell_type": "code",
   "execution_count": 12,
   "id": "67918ca5",
   "metadata": {},
   "outputs": [
    {
     "data": {
      "text/plain": [
       "array([1.6, 0.2])"
      ]
     },
     "execution_count": 12,
     "metadata": {},
     "output_type": "execute_result"
    }
   ],
   "source": [
    "# identify support vector with largest softmargin score\n",
    "best_supportvec = result_array[result_array[:,-1].argmax()][0]\n",
    "best_supportvec"
   ]
  },
  {
   "cell_type": "code",
   "execution_count": 13,
   "id": "d4956cdc",
   "metadata": {},
   "outputs": [],
   "source": [
    "# Run the best performing model on the test data\n",
    "score, accuracy = softmargin(data=X_test, labels=y_test, supportvec=best_supportvec)"
   ]
  },
  {
   "cell_type": "code",
   "execution_count": 14,
   "id": "1b47c700",
   "metadata": {},
   "outputs": [
    {
     "name": "stdout",
     "output_type": "stream",
     "text": [
      "Report of best Model on Testset: \n",
      "-----------------------------------\n",
      "Softmargin Score:  45\n",
      "Accuracy: 100.00%\n"
     ]
    }
   ],
   "source": [
    "print('Report of best Model on Testset: ')\n",
    "print(35*'-')\n",
    "print('Softmargin Score: ', score)\n",
    "print('Accuracy: {:.2%}'.format(accuracy))"
   ]
  },
  {
   "cell_type": "code",
   "execution_count": null,
   "id": "c1af3886",
   "metadata": {},
   "outputs": [],
   "source": []
  }
 ],
 "metadata": {
  "kernelspec": {
   "display_name": "Python [conda env:tensorflow] *",
   "language": "python",
   "name": "conda-env-tensorflow-py"
  },
  "language_info": {
   "codemirror_mode": {
    "name": "ipython",
    "version": 3
   },
   "file_extension": ".py",
   "mimetype": "text/x-python",
   "name": "python",
   "nbconvert_exporter": "python",
   "pygments_lexer": "ipython3",
   "version": "3.9.7"
  }
 },
 "nbformat": 4,
 "nbformat_minor": 5
}
