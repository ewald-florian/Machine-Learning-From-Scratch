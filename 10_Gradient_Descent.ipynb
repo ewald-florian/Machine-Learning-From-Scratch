{
 "cells": [
  {
   "cell_type": "markdown",
   "id": "4081d8ce",
   "metadata": {},
   "source": [
    "# Linear Regression with Gradient Descent"
   ]
  },
  {
   "cell_type": "code",
   "execution_count": 11,
   "id": "a325fd0f",
   "metadata": {},
   "outputs": [],
   "source": [
    "import numpy as np\n",
    "from sklearn import datasets\n",
    "import matplotlib.pyplot as plt\n",
    "plt.style.use('seaborn')"
   ]
  },
  {
   "cell_type": "code",
   "execution_count": 12,
   "id": "d72da75a",
   "metadata": {},
   "outputs": [],
   "source": [
    "iris = datasets.load_iris()\n",
    "data = iris.data"
   ]
  },
  {
   "cell_type": "markdown",
   "id": "1fab1b45",
   "metadata": {},
   "source": [
    "### Implement Model"
   ]
  },
  {
   "cell_type": "code",
   "execution_count": 13,
   "id": "5b9d2e43",
   "metadata": {},
   "outputs": [],
   "source": [
    "def compute_mse(Y_pred, Y):\n",
    "    \"\"\"\n",
    "    Returns MSE loss and grads.\n",
    "    \"\"\"\n",
    "    # N for norm\n",
    "    N = Y_pred.shape[0]\n",
    "    # error\n",
    "    errors = Y_pred - Y\n",
    "    # mse loss\n",
    "    loss = np.sum(errors**2) / N\n",
    "    # compute gradients\n",
    "    gradients = 2*errors/N\n",
    "    \n",
    "    return loss, gradients"
   ]
  },
  {
   "cell_type": "code",
   "execution_count": 14,
   "id": "c2b244c6",
   "metadata": {},
   "outputs": [],
   "source": [
    "class LinearRegression:\n",
    "    \n",
    "    def __init__(self, \n",
    "                 n_iterations = 100_000, \n",
    "                 learning_rate=0.0001):\n",
    "    \n",
    "        self.n_iterations = n_iterations\n",
    "        self.learning_rate = learning_rate\n",
    "        \n",
    "    def fit(self, X, Y):\n",
    "\n",
    "        self.training_losses = []\n",
    "        # add ones vector\n",
    "        X = np.insert(X, 0, 1, axis=1)\n",
    "        # initialize weights\n",
    "        lim = 1 / np.sqrt(X.shape[1])\n",
    "        self.w = np.random.uniform(-lim, lim, (X.shape[1],Y.shape[1]))\n",
    "        \n",
    "        for i in range(self.n_iterations):\n",
    "            # predict Y_pred\n",
    "            Y_pred = X @ self.w\n",
    "\n",
    "            # apply mse function\n",
    "            loss, gradient = compute_mse(Y_pred, Y)\n",
    "            # compute gradient w.r.t parameters\n",
    "            gradient = X.T@gradient      \n",
    "            # update the weights using lr and gradient\n",
    "            self.w -= self.learning_rate * gradient\n",
    "\n",
    "    def predict(self, X):\n",
    "        \n",
    "        # extend X by a column of ones\n",
    "        X = np.insert(X, 0, 1, axis=1)\n",
    "        # Predict Y_pred using the weights from fit()\n",
    "        Y_pred = X.dot(self.w)\n",
    "        return Y_pred"
   ]
  },
  {
   "cell_type": "markdown",
   "id": "d241b2ec",
   "metadata": {},
   "source": [
    "### Prepare Data"
   ]
  },
  {
   "cell_type": "code",
   "execution_count": 16,
   "id": "3b9034d5",
   "metadata": {},
   "outputs": [],
   "source": [
    "# shuffle the data to get random samples\n",
    "np.random.shuffle(data)\n",
    "# split into training and testing set\n",
    "train, test = data[:100], data[100:]\n",
    "# sepal length and sepal width are the independent variables (X) -> columns 0,1\n",
    "X_train, X_test = train[:, :2], test[:, :2]\n",
    "# petal length and petal width are the dependent variables (Y) -> columns 2,3\n",
    "Y_train, Y_test = train[:,2:], test[:,2:]"
   ]
  },
  {
   "cell_type": "markdown",
   "id": "89aeb46a",
   "metadata": {},
   "source": [
    "### Train Model on Train data"
   ]
  },
  {
   "cell_type": "code",
   "execution_count": 17,
   "id": "a090708a",
   "metadata": {},
   "outputs": [],
   "source": [
    "model = LinearRegression(n_iterations=100_000, learning_rate=0.0001)"
   ]
  },
  {
   "cell_type": "code",
   "execution_count": 18,
   "id": "c4b554e6",
   "metadata": {},
   "outputs": [],
   "source": [
    "model.fit(X_train, Y_train)"
   ]
  },
  {
   "cell_type": "markdown",
   "id": "a81ea3ea",
   "metadata": {},
   "source": [
    "### Predict with Test data"
   ]
  },
  {
   "cell_type": "code",
   "execution_count": 19,
   "id": "c6b15534",
   "metadata": {},
   "outputs": [],
   "source": [
    "Y_pred = model.predict(X_test)"
   ]
  },
  {
   "cell_type": "markdown",
   "id": "05bd6d96",
   "metadata": {},
   "source": [
    "### Plot Results"
   ]
  },
  {
   "cell_type": "code",
   "execution_count": 20,
   "id": "b1f3c79e",
   "metadata": {},
   "outputs": [
    {
     "data": {
      "image/png": "[encoded data removed]",
      "text/plain": [
       "<Figure size 576x396 with 1 Axes>"
      ]
     },
     "metadata": {},
     "output_type": "display_data"
    }
   ],
   "source": [
    "x,y = Y_test[:,0],Y_test[:,1]\n",
    "plt.scatter(x,y, c='blue', label='actual values', marker='x', s=50)\n",
    "# plot predicted values\n",
    "x1,y1 = Y_pred[:,0],Y_pred[:,1]\n",
    "plt.scatter(x1,y1, c='r', label='predicted values', marker='*', s=50)\n",
    "plt.xlabel('petal length')\n",
    "plt.ylabel('petal width')\n",
    "plt.title('Linear Regression with Gradient Descent', fontsize=18)\n",
    "plt.legend(fontsize=14)\n",
    "plt.show()"
   ]
  },
  {
   "cell_type": "code",
   "execution_count": null,
   "id": "65464bb5",
   "metadata": {},
   "outputs": [],
   "source": []
  }
 ],
 "metadata": {
  "kernelspec": {
   "display_name": "Python [conda env:tensorflow] *",
   "language": "python",
   "name": "conda-env-tensorflow-py"
  },
  "language_info": {
   "codemirror_mode": {
    "name": "ipython",
    "version": 3
   },
   "file_extension": ".py",
   "mimetype": "text/x-python",
   "name": "python",
   "nbconvert_exporter": "python",
   "pygments_lexer": "ipython3",
   "version": "3.9.7"
  }
 },
 "nbformat": 4,
 "nbformat_minor": 5
}
