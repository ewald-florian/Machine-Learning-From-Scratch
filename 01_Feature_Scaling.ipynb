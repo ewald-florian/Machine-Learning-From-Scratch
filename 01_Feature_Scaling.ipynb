{
 "cells": [
  {
   "cell_type": "markdown",
   "id": "d071bad2",
   "metadata": {
    "pycharm": {
     "name": "#%%\n"
    }
   },
   "source": [
    "# 01 Feature Scaling"
   ]
  },
  {
   "cell_type": "code",
   "execution_count": 26,
   "id": "acaecec6",
   "metadata": {},
   "outputs": [],
   "source": [
    "import numpy as np\n",
    "from sklearn import datasets\n",
    "import matplotlib.pyplot as plt\n",
    "from sklearn import datasets"
   ]
  },
  {
   "cell_type": "code",
   "execution_count": 27,
   "id": "74780ff8",
   "metadata": {},
   "outputs": [],
   "source": [
    "# load the iris dataset from sklearn\n",
    "data = datasets.load_iris().data\n",
    "data_norm = data.copy()"
   ]
  },
  {
   "cell_type": "markdown",
   "id": "1d54a386",
   "metadata": {},
   "source": [
    "### Min-Max Scaling (Normalization)"
   ]
  },
  {
   "cell_type": "code",
   "execution_count": 30,
   "id": "860b6670",
   "metadata": {},
   "outputs": [],
   "source": [
    "def min_max_scale(data, min_range=0, max_range=1):\n",
    "    \"\"\"\n",
    "    Takes a numpy array as input and applies min-max scaling so \n",
    "    that all values lay within the range of [min_range,max_range]. \n",
    "    Returns the scaled data.\n",
    "    \"\"\" \n",
    "    # min and max value of array\n",
    "    x_min = np.amin(data)\n",
    "    x_max = np.amax(data)\n",
    "    x = data\n",
    "    \n",
    "    # min-max scaling\n",
    "    output_array = min_range + ((x - x_min)*(max_range-min_range)) / (x_max - x_min)\n",
    "    \n",
    "    return output_array"
   ]
  },
  {
   "cell_type": "markdown",
   "id": "9d564f15",
   "metadata": {},
   "source": [
    "### Z-Score (Standardisation)"
   ]
  },
  {
   "cell_type": "code",
   "execution_count": 29,
   "id": "481aaf52",
   "metadata": {},
   "outputs": [],
   "source": [
    "def zscore(data):\n",
    "    \"\"\"\n",
    "    takes a numpy array data as input and \n",
    "    applies z-score normalization. Outputs\n",
    "    normalized array.\n",
    "    \"\"\"   \n",
    "    mean = data.mean()\n",
    "    std = data.std()\n",
    "    new_data = (data - mean) / std\n",
    "\n",
    "    return new_data"
   ]
  },
  {
   "cell_type": "code",
   "execution_count": null,
   "id": "5f2e7816",
   "metadata": {},
   "outputs": [],
   "source": []
  }
 ],
 "metadata": {
  "kernelspec": {
   "display_name": "Python 3 (ipykernel)",
   "language": "python",
   "name": "python3"
  },
  "language_info": {
   "codemirror_mode": {
    "name": "ipython",
    "version": 3
   },
   "file_extension": ".py",
   "mimetype": "text/x-python",
   "name": "python",
   "nbconvert_exporter": "python",
   "pygments_lexer": "ipython3",
   "version": "3.9.7"
  }
 },
 "nbformat": 4,
 "nbformat_minor": 5
}